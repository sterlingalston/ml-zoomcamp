{
 "cells": [
  {
   "cell_type": "markdown",
   "id": "e4f9802e",
   "metadata": {},
   "source": [
    "Q1. Pandas version"
   ]
  },
  {
   "cell_type": "code",
   "execution_count": 44,
   "id": "421dbfec",
   "metadata": {},
   "outputs": [
    {
     "name": "stdout",
     "output_type": "stream",
     "text": [
      "pandas version:  2.3.3\n"
     ]
    }
   ],
   "source": [
    "import pandas as pd\n",
    "print(\"pandas version: \", pd.__version__)"
   ]
  },
  {
   "cell_type": "markdown",
   "id": "7376d9e8",
   "metadata": {},
   "source": [
    "Q2. Records count"
   ]
  },
  {
   "cell_type": "code",
   "execution_count": 4,
   "id": "3355cd70",
   "metadata": {},
   "outputs": [],
   "source": [
    "df_car_fuel = pd.read_csv(\"https://raw.githubusercontent.com/alexeygrigorev/datasets/master/car_fuel_efficiency.csv\")"
   ]
  },
  {
   "cell_type": "code",
   "execution_count": 43,
   "id": "74b0b20f",
   "metadata": {},
   "outputs": [
    {
     "name": "stdout",
     "output_type": "stream",
     "text": [
      "records count:  9704\n"
     ]
    }
   ],
   "source": [
    "print(\"records count: \", len(df_car_fuel))"
   ]
  },
  {
   "cell_type": "markdown",
   "id": "789d2d6f",
   "metadata": {},
   "source": [
    "Q3. Fuel types"
   ]
  },
  {
   "cell_type": "code",
   "execution_count": 42,
   "id": "07b245f3",
   "metadata": {},
   "outputs": [
    {
     "name": "stdout",
     "output_type": "stream",
     "text": [
      "fuel types:  2\n"
     ]
    }
   ],
   "source": [
    "print(\"fuel types: \", len(df_car_fuel[\"fuel_type\"].unique()))"
   ]
  },
  {
   "cell_type": "markdown",
   "id": "9569f8ba",
   "metadata": {},
   "source": [
    "Q4. Missing values"
   ]
  },
  {
   "cell_type": "code",
   "execution_count": 17,
   "id": "b027f9fa",
   "metadata": {},
   "outputs": [],
   "source": [
    "l_cols = list(df_car_fuel.columns)"
   ]
  },
  {
   "cell_type": "code",
   "execution_count": 73,
   "id": "9f3738a8",
   "metadata": {},
   "outputs": [
    {
     "name": "stdout",
     "output_type": "stream",
     "text": [
      "missing values:  3\n"
     ]
    }
   ],
   "source": [
    "print(\"missing values: \", sum([1 if int(df_car_fuel[l_cols[i]].isnull().sum()) > 0 else 0 for i in range(len(l_cols))]))"
   ]
  },
  {
   "cell_type": "markdown",
   "id": "972fa8e1",
   "metadata": {},
   "source": [
    "Q5. Max fuel efficiency"
   ]
  },
  {
   "cell_type": "code",
   "execution_count": 40,
   "id": "7c024b4d",
   "metadata": {},
   "outputs": [
    {
     "name": "stdout",
     "output_type": "stream",
     "text": [
      "max fuel efficiency:  23.76\n"
     ]
    }
   ],
   "source": [
    "print(\"max fuel efficiency: \", round(max(df_car_fuel[df_car_fuel[\"origin\"] ==\"Asia\"][\"fuel_efficiency_mpg\"]),2))"
   ]
  },
  {
   "cell_type": "markdown",
   "id": "fb351bf0",
   "metadata": {},
   "source": [
    "Q6. Median value of horsepower"
   ]
  },
  {
   "cell_type": "code",
   "execution_count": 45,
   "id": "60955dbe",
   "metadata": {},
   "outputs": [
    {
     "name": "stdout",
     "output_type": "stream",
     "text": [
      "median horsepower:  149.0\n"
     ]
    }
   ],
   "source": [
    "# 1.\n",
    "print(\"median horsepower: \", round(df_car_fuel[\"horsepower\"].median(),2))"
   ]
  },
  {
   "cell_type": "code",
   "execution_count": 47,
   "id": "a3526991",
   "metadata": {},
   "outputs": [
    {
     "name": "stdout",
     "output_type": "stream",
     "text": [
      "most frequent horsepower:  152.0\n"
     ]
    }
   ],
   "source": [
    "# 2.\n",
    "print(\"most frequent horsepower: \", round(df_car_fuel[\"horsepower\"].mode()[0],2))"
   ]
  },
  {
   "cell_type": "code",
   "execution_count": 72,
   "id": "009dc042",
   "metadata": {},
   "outputs": [],
   "source": [
    "#3.\n",
    "\n",
    "horse_power_mode = int(df_car_fuel[\"horsepower\"].mode()[0])\n",
    "df_car_fuel[\"horsepower\"] = df_car_fuel[\"horsepower\"].fillna(horse_power_mode)"
   ]
  },
  {
   "cell_type": "code",
   "execution_count": 76,
   "id": "9325e7a7",
   "metadata": {},
   "outputs": [
    {
     "name": "stdout",
     "output_type": "stream",
     "text": [
      "Q6 increased:  152.0\n"
     ]
    }
   ],
   "source": [
    "print(\"Q6\", \"increased: \", round(df_car_fuel[\"horsepower\"].median(),2))"
   ]
  },
  {
   "cell_type": "markdown",
   "id": "1e0ae3d1",
   "metadata": {},
   "source": [
    "Q7. Sum of weights"
   ]
  },
  {
   "cell_type": "code",
   "execution_count": 108,
   "id": "2ac5c763",
   "metadata": {},
   "outputs": [],
   "source": [
    "df_cars_asia = df_car_fuel[df_car_fuel[\"origin\"] == \"Asia\"]"
   ]
  },
  {
   "cell_type": "code",
   "execution_count": 119,
   "id": "b264de35",
   "metadata": {},
   "outputs": [],
   "source": [
    "np_cars_asia = df_cars_asia[[\"vehicle_weight\",\"model_year\"]].head(7).values\n",
    "X = np_cars_asia"
   ]
  },
  {
   "cell_type": "code",
   "execution_count": 121,
   "id": "dac5e7cc",
   "metadata": {},
   "outputs": [],
   "source": [
    "XTX = X.T.dot(X)"
   ]
  },
  {
   "cell_type": "code",
   "execution_count": 123,
   "id": "5581235a",
   "metadata": {},
   "outputs": [],
   "source": [
    "XTX_inv = np.linalg.inv(XTX)\n"
   ]
  },
  {
   "cell_type": "code",
   "execution_count": 124,
   "id": "7590d4dd",
   "metadata": {},
   "outputs": [],
   "source": [
    "y = np.array([1100, 1300, 800, 900, 1000, 1100, 1200])"
   ]
  },
  {
   "cell_type": "code",
   "execution_count": 125,
   "id": "23ebf0e2",
   "metadata": {},
   "outputs": [],
   "source": [
    "w = XTX_inv.dot(X.T).dot(y)"
   ]
  },
  {
   "cell_type": "code",
   "execution_count": 127,
   "id": "429aa5c6",
   "metadata": {},
   "outputs": [
    {
     "name": "stdout",
     "output_type": "stream",
     "text": [
      "Q7. sum of weights:  0.5187709081074016\n"
     ]
    }
   ],
   "source": [
    "print(\"Q7. sum of weights: \", float(w.sum()))"
   ]
  },
  {
   "cell_type": "code",
   "execution_count": null,
   "id": "16a0ab87",
   "metadata": {},
   "outputs": [],
   "source": []
  }
 ],
 "metadata": {
  "kernelspec": {
   "display_name": "Python 3 (ipykernel)",
   "language": "python",
   "name": "python3"
  },
  "language_info": {
   "codemirror_mode": {
    "name": "ipython",
    "version": 3
   },
   "file_extension": ".py",
   "mimetype": "text/x-python",
   "name": "python",
   "nbconvert_exporter": "python",
   "pygments_lexer": "ipython3",
   "version": "3.10.12"
  }
 },
 "nbformat": 4,
 "nbformat_minor": 5
}
