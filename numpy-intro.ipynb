{
 "cells": [
  {
   "cell_type": "code",
   "execution_count": 1,
   "id": "76ab7646",
   "metadata": {},
   "outputs": [],
   "source": [
    "import numpy as np"
   ]
  },
  {
   "cell_type": "code",
   "execution_count": 2,
   "id": "4fda17f7",
   "metadata": {},
   "outputs": [],
   "source": [
    "zeros_array = np.zeros(10)\n",
    "ones_array = np.ones(10)\n",
    "constant_array = np.full(10, 3)"
   ]
  },
  {
   "cell_type": "code",
   "execution_count": 3,
   "id": "2b07f5b4",
   "metadata": {},
   "outputs": [],
   "source": [
    "zeros_array = np.zeros(10)\n",
    "ones_array = np.ones(10)\n",
    "constant_array = np.full(10, 3)"
   ]
  },
  {
   "cell_type": "code",
   "execution_count": 4,
   "id": "5157e58a",
   "metadata": {},
   "outputs": [],
   "source": [
    "my_list = [2, 3, 4]\n",
    "array_from_list = np.array(my_list)"
   ]
  },
  {
   "cell_type": "code",
   "execution_count": 5,
   "id": "5c726357",
   "metadata": {},
   "outputs": [],
   "source": [
    "range_array = np.arange(10)  # Creates an array from 0 to 9"
   ]
  },
  {
   "cell_type": "code",
   "execution_count": 6,
   "id": "1cb2eb20",
   "metadata": {},
   "outputs": [],
   "source": [
    "linspace_array = np.linspace(0, 1, 11)  # Creates 11 numbers from 0 to 1"
   ]
  },
  {
   "cell_type": "code",
   "execution_count": 7,
   "id": "602e2a3c",
   "metadata": {},
   "outputs": [],
   "source": [
    "zeros_matrix = np.zeros((5, 2))\n",
    "ones_matrix = np.ones((5, 2))\n",
    "constant_matrix = np.full((5, 2), 3)"
   ]
  },
  {
   "cell_type": "code",
   "execution_count": 8,
   "id": "aa8358f3",
   "metadata": {},
   "outputs": [],
   "source": [
    "arr = np.array([[2, 3, 4], [4, 5, 6]])\n",
    "first_row = arr[0]      # Gets the first row\n",
    "first_col = arr[:, 0]  # Gets the first column"
   ]
  },
  {
   "cell_type": "code",
   "execution_count": 9,
   "id": "01c8d61c",
   "metadata": {},
   "outputs": [],
   "source": [
    "np.random.seed(2)  # Set the seed\n",
    "random_array = np.random.rand(5, 2)  # Generates random numbers between 0 and 1"
   ]
  },
  {
   "cell_type": "code",
   "execution_count": 10,
   "id": "b6bc8724",
   "metadata": {},
   "outputs": [],
   "source": [
    "normal_distribution = np.random.randn(5, 2)\n",
    "random_integers = np.random.randint(low=0, high=100, size=(5, 2))"
   ]
  },
  {
   "cell_type": "code",
   "execution_count": 11,
   "id": "1411b07f",
   "metadata": {},
   "outputs": [],
   "source": [
    "arr = arr + 1   # Adds 1 to each element\n",
    "arr = arr * 2   # Multiplies each element by 2\n",
    "# Similar operations for division and exponentiation"
   ]
  },
  {
   "cell_type": "code",
   "execution_count": 12,
   "id": "d4c81cd0",
   "metadata": {},
   "outputs": [],
   "source": [
    "arr1 = np.ones(4)\n",
    "arr2 = np.full(4, 3)\n",
    "result = arr1 + arr2  # Element-wise addition\n",
    "result = arr1 / arr2  # Element-wise division"
   ]
  },
  {
   "cell_type": "code",
   "execution_count": 13,
   "id": "26f926be",
   "metadata": {},
   "outputs": [],
   "source": [
    "arr = np.array([1, 2, 3, 4])\n",
    "greater_than_2 = arr > 2  # Produces [False, False, True, True]"
   ]
  },
  {
   "cell_type": "code",
   "execution_count": 14,
   "id": "2e7f8294",
   "metadata": {},
   "outputs": [],
   "source": [
    "selected_elements = arr[arr > 1]  # Gets elements greater than 1"
   ]
  },
  {
   "cell_type": "code",
   "execution_count": 15,
   "id": "09fc0c31",
   "metadata": {},
   "outputs": [],
   "source": [
    "min_value = arr.min()    # Minimum value\n",
    "max_value = arr.max()    # Maximum value\n",
    "sum_value = arr.sum()    # Sum of all elements\n",
    "mean_value = arr.mean()  # Mean (average) value\n",
    "std_deviation = arr.std()  # Standard deviation"
   ]
  },
  {
   "cell_type": "code",
   "execution_count": null,
   "id": "960eb962",
   "metadata": {},
   "outputs": [],
   "source": []
  }
 ],
 "metadata": {
  "kernelspec": {
   "display_name": "Python 3 (ipykernel)",
   "language": "python",
   "name": "python3"
  },
  "language_info": {
   "codemirror_mode": {
    "name": "ipython",
    "version": 3
   },
   "file_extension": ".py",
   "mimetype": "text/x-python",
   "name": "python",
   "nbconvert_exporter": "python",
   "pygments_lexer": "ipython3",
   "version": "3.10.12"
  }
 },
 "nbformat": 4,
 "nbformat_minor": 5
}
