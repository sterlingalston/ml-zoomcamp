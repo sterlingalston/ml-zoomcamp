{
 "cells": [
  {
   "cell_type": "code",
   "execution_count": 2,
   "id": "d87371e7",
   "metadata": {},
   "outputs": [],
   "source": [
    "import os\n",
    "import sys\n",
    "import shutil"
   ]
  },
  {
   "cell_type": "code",
   "execution_count": 3,
   "id": "5aabb8bc",
   "metadata": {},
   "outputs": [],
   "source": [
    "images_path = r\"C:\\Users\\sterl\\AppData\\Roaming\\marktext\\images\"\n",
    "assets_path = r\"C:\\Users\\sterl\\Documents\\DataTalksClub\\ml-zoomcamp\\notes-and-tools\\assets\"\n",
    "notes_path = r\"C:\\Users\\sterl\\Documents\\DataTalksClub\\ml-zoomcamp\\notes-and-tools\""
   ]
  },
  {
   "cell_type": "code",
   "execution_count": 4,
   "id": "51185617",
   "metadata": {},
   "outputs": [],
   "source": [
    "l_images = os.listdir(images_path)"
   ]
  },
  {
   "cell_type": "code",
   "execution_count": 5,
   "id": "b7e23519",
   "metadata": {},
   "outputs": [],
   "source": [
    "for i in l_images:\n",
    "    shutil.copy(images_path + \"\\\\\" + i, assets_path + \"\\\\\" + i)"
   ]
  },
  {
   "cell_type": "code",
   "execution_count": 23,
   "id": "b410506a",
   "metadata": {},
   "outputs": [],
   "source": [
    "for n in os.listdir(notes_path):\n",
    "    if os.path.splitext(notes_path + \"\\\\\" + n)[1] == \".md\":\n",
    "        with open(notes_path + \"\\\\\" + n, \"rb\") as file:\n",
    "            filedata = file.read()\n",
    "        \n",
    "        filedata = filedata.decode(\"utf-8\").replace(images_path + \"\\\\\", \"assets/\")\n",
    "\n",
    "        with open(notes_path + \"\\\\\" + n, \"w\") as file:\n",
    "            file.write(filedata)"
   ]
  },
  {
   "cell_type": "code",
   "execution_count": null,
   "id": "a853c892",
   "metadata": {},
   "outputs": [],
   "source": []
  }
 ],
 "metadata": {
  "kernelspec": {
   "display_name": "base",
   "language": "python",
   "name": "python3"
  },
  "language_info": {
   "codemirror_mode": {
    "name": "ipython",
    "version": 3
   },
   "file_extension": ".py",
   "mimetype": "text/x-python",
   "name": "python",
   "nbconvert_exporter": "python",
   "pygments_lexer": "ipython3",
   "version": "3.13.5"
  }
 },
 "nbformat": 4,
 "nbformat_minor": 5
}
