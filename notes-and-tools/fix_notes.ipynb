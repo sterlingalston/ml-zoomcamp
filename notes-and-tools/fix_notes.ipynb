{
 "cells": [
  {
   "cell_type": "code",
   "execution_count": 2,
   "id": "d87371e7",
   "metadata": {},
   "outputs": [],
   "source": [
    "import os\n",
    "import sys\n",
    "import shutil"
   ]
  },
  {
   "cell_type": "code",
   "execution_count": 3,
   "id": "5aabb8bc",
   "metadata": {},
   "outputs": [],
   "source": [
    "images_path = r\"C:\\Users\\sterl\\AppData\\Roaming\\marktext\\images\"\n",
    "assets_path = r\"C:\\Users\\sterl\\Documents\\DataTalksClub\\ml-zoomcamp\\notes-and-tools\\assets\"\n",
    "notes_path = r\"C:\\Users\\sterl\\Documents\\DataTalksClub\\ml-zoomcamp\\notes-and-tools\""
   ]
  },
  {
   "cell_type": "code",
   "execution_count": 4,
   "id": "51185617",
   "metadata": {},
   "outputs": [],
   "source": [
    "l_images = os.listdir(images_path)"
   ]
  },
  {
   "cell_type": "code",
   "execution_count": 5,
   "id": "b7e23519",
   "metadata": {},
   "outputs": [],
   "source": [
    "for i in l_images:\n",
    "    shutil.copy(images_path + \"\\\\\" + i, assets_path + \"\\\\\" + i)"
   ]
  },
  {
   "cell_type": "code",
   "execution_count": 23,
   "id": "b410506a",
   "metadata": {},
   "outputs": [],
   "source": [
    "for n in os.listdir(notes_path):\n",
    "    if os.path.splitext(notes_path + \"\\\\\" + n)[1] == \".md\":\n",
    "        with open(notes_path + \"\\\\\" + n, \"rb\") as file:\n",
    "            filedata = file.read()\n",
    "        \n",
    "        filedata = filedata.decode(\"utf-8\").replace(images_path + \"\\\\\", \"assets/\")\n",
    "\n",
    "        with open(notes_path + \"\\\\\" + n, \"w\") as file:\n",
    "            file.write(filedata)"
   ]
  },
  {
   "cell_type": "code",
   "execution_count": 22,
   "id": "c0e4b19c",
   "metadata": {},
   "outputs": [
    {
     "data": {
      "text/plain": [
       "\"### Model Selection Process\\r\\n\\r\\n- ![](assets/20250928_174949_image.png)\\r\\n\\r\\n- ![](assets/20250928_175411_image.png)\\r\\n\\r\\n- ![](assets/20250928_175548_image.png)\\r\\n\\r\\n- ![](assets/20250928_175720_image.png)\\r\\n\\r\\n- model above is 66% accurate\\r\\n  \\r\\n  - can do this for logistic regresssion\\r\\n\\r\\n- ![](assets/20250928_175837_image.png)\\r\\n\\r\\n- ![](assets/20250929_200919_image.png)\\r\\n\\r\\n- it's possible NN just got lucky (NN = neural net)\\r\\n\\r\\n- but applying model to another dataset, it may not be correct\\r\\n\\r\\n- multiple comparison problem\\r\\n\\r\\n- ## Multiple comparison problem\\r\\n\\r\\nThe last table visualize a problem that could happen, when comparing\\r\\ndifferent models on one validation dataset. The winning model could just\\r\\nget lucky (like a coin-flip) predicting the validation data. When\\r\\ntesting the models on a totally different dataset, the winner could be\\r\\nanother model.\\r\\n\\r\\n3 subsets of data: train, validation, and test (hide)\\r\\n\\r\\n![](assets/2025-09-29-20-43-35-image.png)\\r\\n\\r\\napply NN (winning model) to the test dataset\\r\\n\\r\\n- extra round of validation\\r\\n\\r\\n![](assets/2025-09-29-20-44-13-image.png)\\r\\n\\r\\nlogisitc regression, decision tree, neural net, random forest\\r\\n\\r\\n![](assets/2025-09-29-20-45-25-image.png)\\r\\n\\r\\n![](assets/2025-09-29-21-03-35-image.png)\\r\\n\\r\\n\\r\\n\""
      ]
     },
     "execution_count": 22,
     "metadata": {},
     "output_type": "execute_result"
    }
   ],
   "source": [
    "filedata"
   ]
  },
  {
   "cell_type": "code",
   "execution_count": null,
   "id": "a853c892",
   "metadata": {},
   "outputs": [],
   "source": []
  }
 ],
 "metadata": {
  "kernelspec": {
   "display_name": "base",
   "language": "python",
   "name": "python3"
  },
  "language_info": {
   "codemirror_mode": {
    "name": "ipython",
    "version": 3
   },
   "file_extension": ".py",
   "mimetype": "text/x-python",
   "name": "python",
   "nbconvert_exporter": "python",
   "pygments_lexer": "ipython3",
   "version": "3.13.5"
  }
 },
 "nbformat": 4,
 "nbformat_minor": 5
}
